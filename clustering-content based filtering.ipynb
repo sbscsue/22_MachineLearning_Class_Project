{
 "cells": [
  {
   "cell_type": "code",
   "execution_count": 1,
   "id": "92d06d63",
   "metadata": {},
   "outputs": [],
   "source": [
    "import matplotlib.pyplot as plt\n",
    "import pandas as pd\n",
    "import numpy as np\n",
    "from mpl_toolkits.axes_grid1 import make_axes_locatable\n",
    "from sklearn.cluster import KMeans\n",
    "from sklearn.metrics import mean_squared_error\n",
    "import itertools\n",
    "from sklearn.metrics import silhouette_samples, silhouette_score\n",
    "from scipy.sparse import csr_matrix\n",
    "import seaborn as sns\n",
    "from sklearn.cluster import KMeans\n",
    "from sklearn.metrics.pairwise import cosine_similarity\n",
    "from sklearn.feature_extraction.text import TfidfVectorizer\n",
    "from sklearn.feature_extraction.text import CountVectorizer\n",
    "\n",
    "import warnings\n",
    "warnings.filterwarnings(action='ignore')"
   ]
  },
  {
   "cell_type": "code",
   "execution_count": 2,
   "id": "4528a251",
   "metadata": {},
   "outputs": [],
   "source": [
    "\n",
    "def draw_clusters(biased_dataset, predictions, cmap='viridis'):\n",
    "    fig = plt.figure(figsize=(8,8))\n",
    "    ax = fig.add_subplot(111)\n",
    "    plt.xlim(0, 5)\n",
    "    plt.ylim(0, 5)\n",
    "    ax.set_xlabel('Avg scifi rating')\n",
    "    ax.set_ylabel('Avg romance rating')\n",
    "    \n",
    "\n",
    "    clustered = pd.concat([biased_dataset.reset_index(), pd.DataFrame({'group':predictions})], axis=1)\n",
    "    plt.scatter(clustered['avg_scifi_rating'], clustered['avg_romance_rating'], c=clustered['group'], s=20, cmap=cmap)\n",
    "\n",
    "        \n",
    "def clustering_errors(k, data):\n",
    "    kmeans = KMeans(n_clusters=k).fit(data)\n",
    "    predictions = kmeans.predict(data)\n",
    "    #cluster_centers = kmeans.cluster_centers_\n",
    "    # errors = [mean_squared_error(row, cluster_centers[cluster]) for row, cluster in zip(data.values, predictions)]\n",
    "    # return sum(errors)\n",
    "    silhouette_avg = silhouette_score(data, predictions)\n",
    "    return silhouette_avg\n",
    "\n",
    "def sparse_clustering_errors(k, data):\n",
    "    kmeans = KMeans(n_clusters=k).fit(data)\n",
    "    predictions = kmeans.predict(data)\n",
    "    cluster_centers = kmeans.cluster_centers_\n",
    "    errors = [mean_squared_error(row, cluster_centers[cluster]) for row, cluster in zip(data, predictions)]\n",
    "    return sum(errors)\n",
    "\n",
    "\n",
    "def get_genre_ratings(ratings, movies, genres, column_names):\n",
    "    genre_ratings = pd.DataFrame()\n",
    "    for genre in genres:        \n",
    "        genre_movies = movies[movies['genres'].str.contains(genre) ]\n",
    "        avg_genre_votes_per_user = ratings[ratings['movieId'].isin(genre_movies['movieId'])].loc[:, ['userId', 'rating']].groupby(['userId'])['rating'].mean().round(2)\n",
    "        \n",
    "        genre_ratings = pd.concat([genre_ratings, avg_genre_votes_per_user], axis=1)\n",
    "        \n",
    "    genre_ratings.columns = column_names\n",
    "    return genre_ratings\n",
    "    \n",
    "def get_dataset_3(movies, ratings, genre_ratings):    \n",
    "    # Extract action ratings from dataset\n",
    "    action_movies = movies[movies['genres'].str.contains('Action') ]\n",
    "    # Get average vote on action movies per user\n",
    "    avg_action_votes_per_user = ratings[ratings['movieId'].isin(action_movies['movieId'])].loc[:, ['userId', 'rating']].groupby(['userId'])['rating'].mean().round(2)\n",
    "    # Add action ratings to romance and scifi in dataframe\n",
    "    genre_ratings_3 = pd.concat([genre_ratings, avg_action_votes_per_user], axis=1)\n",
    "    genre_ratings_3.columns = ['avg_romance_rating', 'avg_scifi_rating', 'avg_action_rating']\n",
    "    \n",
    "    # Let's bias the dataset a little so our clusters can separate scifi vs romance more easily\n",
    "    b1 = 3.2\n",
    "    b2 = 2.5\n",
    "    biased_dataset_3 = genre_ratings_3[((genre_ratings_3['avg_romance_rating'] < b1 - 0.2) & (genre_ratings_3['avg_scifi_rating'] > b2)) | ((genre_ratings_3['avg_scifi_rating'] < b1) & (genre_ratings_3['avg_romance_rating'] > b2))]\n",
    "    biased_dataset_3 = pd.concat([biased_dataset_3[:300], genre_ratings_3[:2]])\n",
    "    biased_dataset_3 = pd.DataFrame(biased_dataset_3.to_records())\n",
    "    \n",
    "    return biased_dataset_3\n",
    "\n",
    "def draw_clusters_3d(biased_dataset_3, predictions):\n",
    "    fig = plt.figure(figsize=(8,8))\n",
    "    ax = fig.add_subplot(111)\n",
    "\n",
    "    plt.xlim(0, 5)\n",
    "    plt.ylim(0, 5)\n",
    "    ax.set_xlabel('Avg scifi rating')\n",
    "    ax.set_ylabel('Avg romance rating')\n",
    "\n",
    "    clustered = pd.concat([biased_dataset_3.reset_index(), pd.DataFrame({'group':predictions})], axis=1)\n",
    "\n",
    "    colors = itertools.cycle(plt.rcParams[\"axes.prop_cycle\"].by_key()[\"color\"])\n",
    "\n",
    "    for g in clustered.group.unique():\n",
    "        color = next(colors)\n",
    "        for index, point in clustered[clustered.group == g].iterrows():\n",
    "            if point['avg_action_rating'].astype(float) > 3: \n",
    "                size = 50\n",
    "            else:\n",
    "                size = 15\n",
    "            plt.scatter(point['avg_scifi_rating'], \n",
    "                        point['avg_romance_rating'], \n",
    "                        s=size, \n",
    "                        color=color)\n",
    "    \n",
    "def draw_movie_clusters(clustered, max_users, max_movies):\n",
    "    c=1\n",
    "    for cluster_id in clustered.group.unique():\n",
    "        # To improve visibility, we're showing at most max_users users and max_movies movies per cluster.\n",
    "        # You can change these values to see more users & movies per cluster\n",
    "        d = clustered[clustered.group == cluster_id].drop(['index', 'group'], axis=1)\n",
    "        n_users_in_cluster = d.shape[0]\n",
    "        \n",
    "        d = sort_by_rating_density(d, max_movies, max_users)\n",
    "        \n",
    "        d = d.reindex(d.mean().sort_values(ascending=False).index,  axis=1)\n",
    "        d = d.reindex(d.count(axis=1).sort_values(ascending=False).index)\n",
    "        d = d.iloc[:max_users, :max_movies]\n",
    "        n_users_in_plot = d.shape[0]\n",
    "        \n",
    "        # We're only selecting to show clusters that have more than 9 users, otherwise, they're less interesting\n",
    "        if len(d) > 9:\n",
    "            print('cluster # {}'.format(cluster_id))\n",
    "            print('# of users in cluster: {}.'.format(n_users_in_cluster), '# of users in plot: {}'.format(n_users_in_plot))\n",
    "            fig = plt.figure(figsize=(15,4))\n",
    "            ax = plt.gca()\n",
    "\n",
    "            ax.invert_yaxis()\n",
    "            ax.xaxis.tick_top()\n",
    "            labels = d.columns.str[:40]\n",
    "\n",
    "            ax.set_yticks(np.arange(d.shape[0]) , minor=False)\n",
    "            ax.set_xticks(np.arange(d.shape[1]) , minor=False)\n",
    "\n",
    "            ax.set_xticklabels(labels, minor=False)\n",
    "                        \n",
    "            ax.get_yaxis().set_visible(False)\n",
    "\n",
    "            # Heatmap\n",
    "            heatmap = plt.imshow(d, vmin=0, vmax=5, aspect='auto')\n",
    "\n",
    "            ax.set_xlabel('movies')\n",
    "            ax.set_ylabel('User id')\n",
    "\n",
    "            divider = make_axes_locatable(ax)\n",
    "            cax = divider.append_axes(\"right\", size=\"5%\", pad=0.05)\n",
    "\n",
    "            # Color bar\n",
    "            cbar = fig.colorbar(heatmap, ticks=[5, 4, 3, 2, 1, 0], cax=cax)\n",
    "            cbar.ax.set_yticklabels(['5 stars', '4 stars','3 stars','2 stars','1 stars','0 stars'])\n",
    "\n",
    "            plt.setp(ax.get_xticklabels(), rotation=90, fontsize=9)\n",
    "            plt.tick_params(axis='both', which='both', bottom='off', top='off', left='off', labelbottom='off', labelleft='off') \n",
    "            #print('cluster # {} \\n(Showing at most {} users and {} movies)'.format(cluster_id, max_users, max_movies))\n",
    "\n",
    "            plt.show()\n",
    "\n",
    "\n",
    "            # Let's only show 5 clusters\n",
    "            # Remove the next three lines if you want to see all the clusters\n",
    "            # Contribution welcomed: Pythonic way of achieving this\n",
    "            # c = c+1\n",
    "            # if c > 6:\n",
    "            #    break\n",
    "                \n",
    "def get_most_rated_movies(user_movie_ratings, max_number_of_movies):\n",
    "    # 1- Count\n",
    "    user_movie_ratings = user_movie_ratings.append(user_movie_ratings.count(), ignore_index=True)\n",
    "    # 2- sort\n",
    "    user_movie_ratings_sorted = user_movie_ratings.sort_values(len(user_movie_ratings)-1, axis=1, ascending=False)\n",
    "    user_movie_ratings_sorted = user_movie_ratings_sorted.drop(user_movie_ratings_sorted.tail(1).index)\n",
    "    # 3- slice\n",
    "    most_rated_movies = user_movie_ratings_sorted.iloc[:, :max_number_of_movies]\n",
    "    return most_rated_movies\n",
    "\n",
    "def get_users_who_rate_the_most(most_rated_movies, max_number_of_movies):\n",
    "    # Get most voting users\n",
    "    # 1- Count\n",
    "    most_rated_movies['counts'] = pd.Series(most_rated_movies.count(axis=1))\n",
    "    # 2- Sort\n",
    "    most_rated_movies_users = most_rated_movies.sort_values('counts', ascending=False)\n",
    "    # 3- Slice\n",
    "    most_rated_movies_users_selection = most_rated_movies_users.iloc[:max_number_of_movies, :]\n",
    "    most_rated_movies_users_selection = most_rated_movies_users_selection.drop(['counts'], axis=1)\n",
    "    \n",
    "    return most_rated_movies_users_selection\n",
    "\n",
    "def sort_by_rating_density(user_movie_ratings, n_movies, n_users):\n",
    "    most_rated_movies = get_most_rated_movies(user_movie_ratings, n_movies)\n",
    "    most_rated_movies = get_users_who_rate_the_most(most_rated_movies, n_users)\n",
    "    return most_rated_movies\n",
    "    \n",
    "def draw_movies_heatmap(most_rated_movies_users_selection, axis_labels=True):\n",
    "    \n",
    "    # Reverse to match the order of the printed dataframe\n",
    "    #most_rated_movies_users_selection = most_rated_movies_users_selection.iloc[::-1]\n",
    "    \n",
    "    fig = plt.figure(figsize=(15,4))\n",
    "    ax = plt.gca()\n",
    "    \n",
    "    # Draw heatmap\n",
    "    heatmap = ax.imshow(most_rated_movies_users_selection,  interpolation='nearest', vmin=0, vmax=5, aspect='auto')\n",
    "\n",
    "    if axis_labels:\n",
    "        ax.set_yticks(np.arange(most_rated_movies_users_selection.shape[0]) , minor=False)\n",
    "        ax.set_xticks(np.arange(most_rated_movies_users_selection.shape[1]) , minor=False)\n",
    "        ax.invert_yaxis()\n",
    "        ax.xaxis.tick_top()\n",
    "        labels = most_rated_movies_users_selection.columns.str[:40]\n",
    "        ax.set_xticklabels(labels, minor=False)\n",
    "        ax.set_yticklabels(most_rated_movies_users_selection.index, minor=False)\n",
    "        plt.setp(ax.get_xticklabels(), rotation=90)\n",
    "    else:\n",
    "        ax.get_xaxis().set_visible(False)\n",
    "        ax.get_yaxis().set_visible(False)\n",
    "    \n",
    "    ax.grid(False)\n",
    "    ax.set_ylabel('User id')\n",
    "\n",
    "    # Separate heatmap from color bar\n",
    "    divider = make_axes_locatable(ax)\n",
    "    cax = divider.append_axes(\"right\", size=\"5%\", pad=0.05)\n",
    "\n",
    "    # Color bar\n",
    "    cbar = fig.colorbar(heatmap, ticks=[5, 4, 3, 2, 1, 0], cax=cax)\n",
    "    cbar.ax.set_yticklabels(['5 stars', '4 stars','3 stars','2 stars','1 stars','0 stars'])\n",
    "\n",
    "\n",
    "\n",
    "    plt.show()\n",
    "    \n",
    "def bias_genre_rating_dataset(genre_ratings, score_limit_1, score_limit_2):\n",
    "    \n",
    "    \n",
    "    biased_dataset = genre_ratings[((genre_ratings['avg_Comedy_rating'] < score_limit_1 - 0.2) \n",
    "                                    & (genre_ratings['avg_Children_rating'] > score_limit_2)) |\n",
    "                                   ((genre_ratings['avg_Children_rating'] < score_limit_1) \n",
    "                                    & (genre_ratings['avg_Comedy_rating'] > score_limit_2))]\n",
    "    biased_dataset = pd.concat([biased_dataset[:300], genre_ratings[:2]])\n",
    "    biased_dataset = pd.DataFrame(biased_dataset.to_records())\n",
    "    return biased_dataset"
   ]
  },
  {
   "cell_type": "markdown",
   "id": "d43ef809",
   "metadata": {},
   "source": [
    "# Open data"
   ]
  },
  {
   "cell_type": "code",
   "execution_count": 3,
   "id": "936e55ae",
   "metadata": {},
   "outputs": [
    {
     "data": {
      "text/plain": "   movieId                               title  \\\n0        1                    Toy Story (1995)   \n1        2                      Jumanji (1995)   \n2        3             Grumpier Old Men (1995)   \n3        4            Waiting to Exhale (1995)   \n4        5  Father of the Bride Part II (1995)   \n\n                                        genres  \n0  Adventure|Animation|Children|Comedy|Fantasy  \n1                   Adventure|Children|Fantasy  \n2                               Comedy|Romance  \n3                         Comedy|Drama|Romance  \n4                                       Comedy  ",
      "text/html": "<div>\n<style scoped>\n    .dataframe tbody tr th:only-of-type {\n        vertical-align: middle;\n    }\n\n    .dataframe tbody tr th {\n        vertical-align: top;\n    }\n\n    .dataframe thead th {\n        text-align: right;\n    }\n</style>\n<table border=\"1\" class=\"dataframe\">\n  <thead>\n    <tr style=\"text-align: right;\">\n      <th></th>\n      <th>movieId</th>\n      <th>title</th>\n      <th>genres</th>\n    </tr>\n  </thead>\n  <tbody>\n    <tr>\n      <th>0</th>\n      <td>1</td>\n      <td>Toy Story (1995)</td>\n      <td>Adventure|Animation|Children|Comedy|Fantasy</td>\n    </tr>\n    <tr>\n      <th>1</th>\n      <td>2</td>\n      <td>Jumanji (1995)</td>\n      <td>Adventure|Children|Fantasy</td>\n    </tr>\n    <tr>\n      <th>2</th>\n      <td>3</td>\n      <td>Grumpier Old Men (1995)</td>\n      <td>Comedy|Romance</td>\n    </tr>\n    <tr>\n      <th>3</th>\n      <td>4</td>\n      <td>Waiting to Exhale (1995)</td>\n      <td>Comedy|Drama|Romance</td>\n    </tr>\n    <tr>\n      <th>4</th>\n      <td>5</td>\n      <td>Father of the Bride Part II (1995)</td>\n      <td>Comedy</td>\n    </tr>\n  </tbody>\n</table>\n</div>"
     },
     "execution_count": 3,
     "metadata": {},
     "output_type": "execute_result"
    }
   ],
   "source": [
    "movies = pd.read_csv('dataSet/movie.csv')\n",
    "movies_temp = movies\n",
    "movies.head()"
   ]
  },
  {
   "cell_type": "code",
   "execution_count": 4,
   "id": "a39a204b",
   "metadata": {},
   "outputs": [
    {
     "data": {
      "text/plain": "   movieId                               title  \\\n0        1                    Toy Story (1995)   \n1        2                      Jumanji (1995)   \n2        3             Grumpier Old Men (1995)   \n3        4            Waiting to Exhale (1995)   \n4        5  Father of the Bride Part II (1995)   \n\n                                        genres  \n0  Adventure|Animation|Children|Comedy|Fantasy  \n1                   Adventure|Children|Fantasy  \n2                               Comedy|Romance  \n3                         Comedy|Drama|Romance  \n4                                       Comedy  ",
      "text/html": "<div>\n<style scoped>\n    .dataframe tbody tr th:only-of-type {\n        vertical-align: middle;\n    }\n\n    .dataframe tbody tr th {\n        vertical-align: top;\n    }\n\n    .dataframe thead th {\n        text-align: right;\n    }\n</style>\n<table border=\"1\" class=\"dataframe\">\n  <thead>\n    <tr style=\"text-align: right;\">\n      <th></th>\n      <th>movieId</th>\n      <th>title</th>\n      <th>genres</th>\n    </tr>\n  </thead>\n  <tbody>\n    <tr>\n      <th>0</th>\n      <td>1</td>\n      <td>Toy Story (1995)</td>\n      <td>Adventure|Animation|Children|Comedy|Fantasy</td>\n    </tr>\n    <tr>\n      <th>1</th>\n      <td>2</td>\n      <td>Jumanji (1995)</td>\n      <td>Adventure|Children|Fantasy</td>\n    </tr>\n    <tr>\n      <th>2</th>\n      <td>3</td>\n      <td>Grumpier Old Men (1995)</td>\n      <td>Comedy|Romance</td>\n    </tr>\n    <tr>\n      <th>3</th>\n      <td>4</td>\n      <td>Waiting to Exhale (1995)</td>\n      <td>Comedy|Drama|Romance</td>\n    </tr>\n    <tr>\n      <th>4</th>\n      <td>5</td>\n      <td>Father of the Bride Part II (1995)</td>\n      <td>Comedy</td>\n    </tr>\n  </tbody>\n</table>\n</div>"
     },
     "execution_count": 4,
     "metadata": {},
     "output_type": "execute_result"
    }
   ],
   "source": [
    "movies_temp.head()"
   ]
  },
  {
   "cell_type": "markdown",
   "id": "ff696eb3",
   "metadata": {},
   "source": [
    "# genres category"
   ]
  },
  {
   "cell_type": "code",
   "execution_count": 5,
   "id": "1a0a1717",
   "metadata": {},
   "outputs": [
    {
     "data": {
      "text/plain": "array(['Adventure', 'Animation', 'Children', 'Comedy', 'Fantasy',\n       'Romance', 'Drama', 'Action', 'Crime', 'Thriller', 'Horror',\n       'Mystery', 'Sci-Fi', 'IMAX', 'Documentary', 'War', 'Musical',\n       'Western', 'Film-Noir', '(no genres listed)'], dtype=object)"
     },
     "execution_count": 5,
     "metadata": {},
     "output_type": "execute_result"
    }
   ],
   "source": [
    "genres = pd.DataFrame(movies.genres.str.split('|').tolist()).stack().unique()\n",
    "genres"
   ]
  },
  {
   "cell_type": "code",
   "execution_count": 6,
   "id": "a2d320a8",
   "metadata": {},
   "outputs": [
    {
     "data": {
      "text/plain": "       movieId                               title  \\\n0            1                    Toy Story (1995)   \n1            2                      Jumanji (1995)   \n2            3             Grumpier Old Men (1995)   \n3            4            Waiting to Exhale (1995)   \n4            5  Father of the Bride Part II (1995)   \n...        ...                                 ...   \n27273   131254        Kein Bund für's Leben (2007)   \n27274   131256       Feuer, Eis & Dosenbier (2002)   \n27275   131258                  The Pirates (2014)   \n27276   131260                 Rentun Ruusu (2001)   \n27277   131262                    Innocence (2014)   \n\n                                            genres  \n0      Adventure|Animation|Children|Comedy|Fantasy  \n1                       Adventure|Children|Fantasy  \n2                                   Comedy|Romance  \n3                             Comedy|Drama|Romance  \n4                                           Comedy  \n...                                            ...  \n27273                                       Comedy  \n27274                                       Comedy  \n27275                                    Adventure  \n27276                           (no genres listed)  \n27277                     Adventure|Fantasy|Horror  \n\n[27278 rows x 3 columns]",
      "text/html": "<div>\n<style scoped>\n    .dataframe tbody tr th:only-of-type {\n        vertical-align: middle;\n    }\n\n    .dataframe tbody tr th {\n        vertical-align: top;\n    }\n\n    .dataframe thead th {\n        text-align: right;\n    }\n</style>\n<table border=\"1\" class=\"dataframe\">\n  <thead>\n    <tr style=\"text-align: right;\">\n      <th></th>\n      <th>movieId</th>\n      <th>title</th>\n      <th>genres</th>\n    </tr>\n  </thead>\n  <tbody>\n    <tr>\n      <th>0</th>\n      <td>1</td>\n      <td>Toy Story (1995)</td>\n      <td>Adventure|Animation|Children|Comedy|Fantasy</td>\n    </tr>\n    <tr>\n      <th>1</th>\n      <td>2</td>\n      <td>Jumanji (1995)</td>\n      <td>Adventure|Children|Fantasy</td>\n    </tr>\n    <tr>\n      <th>2</th>\n      <td>3</td>\n      <td>Grumpier Old Men (1995)</td>\n      <td>Comedy|Romance</td>\n    </tr>\n    <tr>\n      <th>3</th>\n      <td>4</td>\n      <td>Waiting to Exhale (1995)</td>\n      <td>Comedy|Drama|Romance</td>\n    </tr>\n    <tr>\n      <th>4</th>\n      <td>5</td>\n      <td>Father of the Bride Part II (1995)</td>\n      <td>Comedy</td>\n    </tr>\n    <tr>\n      <th>...</th>\n      <td>...</td>\n      <td>...</td>\n      <td>...</td>\n    </tr>\n    <tr>\n      <th>27273</th>\n      <td>131254</td>\n      <td>Kein Bund für's Leben (2007)</td>\n      <td>Comedy</td>\n    </tr>\n    <tr>\n      <th>27274</th>\n      <td>131256</td>\n      <td>Feuer, Eis &amp; Dosenbier (2002)</td>\n      <td>Comedy</td>\n    </tr>\n    <tr>\n      <th>27275</th>\n      <td>131258</td>\n      <td>The Pirates (2014)</td>\n      <td>Adventure</td>\n    </tr>\n    <tr>\n      <th>27276</th>\n      <td>131260</td>\n      <td>Rentun Ruusu (2001)</td>\n      <td>(no genres listed)</td>\n    </tr>\n    <tr>\n      <th>27277</th>\n      <td>131262</td>\n      <td>Innocence (2014)</td>\n      <td>Adventure|Fantasy|Horror</td>\n    </tr>\n  </tbody>\n</table>\n<p>27278 rows × 3 columns</p>\n</div>"
     },
     "execution_count": 6,
     "metadata": {},
     "output_type": "execute_result"
    }
   ],
   "source": [
    "movies"
   ]
  },
  {
   "cell_type": "code",
   "execution_count": 7,
   "id": "ea7390a6",
   "metadata": {},
   "outputs": [],
   "source": [
    "movies_encoded = movies.copy()"
   ]
  },
  {
   "cell_type": "code",
   "execution_count": 8,
   "id": "ade9734e",
   "metadata": {},
   "outputs": [
    {
     "data": {
      "text/plain": "       movieId                               title  Adventure  Animation  \\\n0            1                    Toy Story (1995)          1          1   \n1            2                      Jumanji (1995)          1          0   \n2            3             Grumpier Old Men (1995)          0          0   \n3            4            Waiting to Exhale (1995)          0          0   \n4            5  Father of the Bride Part II (1995)          0          0   \n...        ...                                 ...        ...        ...   \n27273   131254        Kein Bund für's Leben (2007)          0          0   \n27274   131256       Feuer, Eis & Dosenbier (2002)          0          0   \n27275   131258                  The Pirates (2014)          1          0   \n27276   131260                 Rentun Ruusu (2001)          0          0   \n27277   131262                    Innocence (2014)          1          0   \n\n       Children  Comedy  Fantasy  Romance  Drama  Action  ...  Horror  \\\n0             1       1        1        0      0       0  ...       0   \n1             1       0        1        0      0       0  ...       0   \n2             0       1        0        1      0       0  ...       0   \n3             0       1        0        1      1       0  ...       0   \n4             0       1        0        0      0       0  ...       0   \n...         ...     ...      ...      ...    ...     ...  ...     ...   \n27273         0       1        0        0      0       0  ...       0   \n27274         0       1        0        0      0       0  ...       0   \n27275         0       0        0        0      0       0  ...       0   \n27276         0       0        0        0      0       0  ...       0   \n27277         0       0        1        0      0       0  ...       1   \n\n       Mystery  Sci-Fi  IMAX  Documentary  War  Musical  Western  Film-Noir  \\\n0            0       0     0            0    0        0        0          0   \n1            0       0     0            0    0        0        0          0   \n2            0       0     0            0    0        0        0          0   \n3            0       0     0            0    0        0        0          0   \n4            0       0     0            0    0        0        0          0   \n...        ...     ...   ...          ...  ...      ...      ...        ...   \n27273        0       0     0            0    0        0        0          0   \n27274        0       0     0            0    0        0        0          0   \n27275        0       0     0            0    0        0        0          0   \n27276        0       0     0            0    0        0        0          0   \n27277        0       0     0            0    0        0        0          0   \n\n       (no genres listed)  \n0                       0  \n1                       0  \n2                       0  \n3                       0  \n4                       0  \n...                   ...  \n27273                   0  \n27274                   0  \n27275                   0  \n27276                   1  \n27277                   0  \n\n[27278 rows x 22 columns]",
      "text/html": "<div>\n<style scoped>\n    .dataframe tbody tr th:only-of-type {\n        vertical-align: middle;\n    }\n\n    .dataframe tbody tr th {\n        vertical-align: top;\n    }\n\n    .dataframe thead th {\n        text-align: right;\n    }\n</style>\n<table border=\"1\" class=\"dataframe\">\n  <thead>\n    <tr style=\"text-align: right;\">\n      <th></th>\n      <th>movieId</th>\n      <th>title</th>\n      <th>Adventure</th>\n      <th>Animation</th>\n      <th>Children</th>\n      <th>Comedy</th>\n      <th>Fantasy</th>\n      <th>Romance</th>\n      <th>Drama</th>\n      <th>Action</th>\n      <th>...</th>\n      <th>Horror</th>\n      <th>Mystery</th>\n      <th>Sci-Fi</th>\n      <th>IMAX</th>\n      <th>Documentary</th>\n      <th>War</th>\n      <th>Musical</th>\n      <th>Western</th>\n      <th>Film-Noir</th>\n      <th>(no genres listed)</th>\n    </tr>\n  </thead>\n  <tbody>\n    <tr>\n      <th>0</th>\n      <td>1</td>\n      <td>Toy Story (1995)</td>\n      <td>1</td>\n      <td>1</td>\n      <td>1</td>\n      <td>1</td>\n      <td>1</td>\n      <td>0</td>\n      <td>0</td>\n      <td>0</td>\n      <td>...</td>\n      <td>0</td>\n      <td>0</td>\n      <td>0</td>\n      <td>0</td>\n      <td>0</td>\n      <td>0</td>\n      <td>0</td>\n      <td>0</td>\n      <td>0</td>\n      <td>0</td>\n    </tr>\n    <tr>\n      <th>1</th>\n      <td>2</td>\n      <td>Jumanji (1995)</td>\n      <td>1</td>\n      <td>0</td>\n      <td>1</td>\n      <td>0</td>\n      <td>1</td>\n      <td>0</td>\n      <td>0</td>\n      <td>0</td>\n      <td>...</td>\n      <td>0</td>\n      <td>0</td>\n      <td>0</td>\n      <td>0</td>\n      <td>0</td>\n      <td>0</td>\n      <td>0</td>\n      <td>0</td>\n      <td>0</td>\n      <td>0</td>\n    </tr>\n    <tr>\n      <th>2</th>\n      <td>3</td>\n      <td>Grumpier Old Men (1995)</td>\n      <td>0</td>\n      <td>0</td>\n      <td>0</td>\n      <td>1</td>\n      <td>0</td>\n      <td>1</td>\n      <td>0</td>\n      <td>0</td>\n      <td>...</td>\n      <td>0</td>\n      <td>0</td>\n      <td>0</td>\n      <td>0</td>\n      <td>0</td>\n      <td>0</td>\n      <td>0</td>\n      <td>0</td>\n      <td>0</td>\n      <td>0</td>\n    </tr>\n    <tr>\n      <th>3</th>\n      <td>4</td>\n      <td>Waiting to Exhale (1995)</td>\n      <td>0</td>\n      <td>0</td>\n      <td>0</td>\n      <td>1</td>\n      <td>0</td>\n      <td>1</td>\n      <td>1</td>\n      <td>0</td>\n      <td>...</td>\n      <td>0</td>\n      <td>0</td>\n      <td>0</td>\n      <td>0</td>\n      <td>0</td>\n      <td>0</td>\n      <td>0</td>\n      <td>0</td>\n      <td>0</td>\n      <td>0</td>\n    </tr>\n    <tr>\n      <th>4</th>\n      <td>5</td>\n      <td>Father of the Bride Part II (1995)</td>\n      <td>0</td>\n      <td>0</td>\n      <td>0</td>\n      <td>1</td>\n      <td>0</td>\n      <td>0</td>\n      <td>0</td>\n      <td>0</td>\n      <td>...</td>\n      <td>0</td>\n      <td>0</td>\n      <td>0</td>\n      <td>0</td>\n      <td>0</td>\n      <td>0</td>\n      <td>0</td>\n      <td>0</td>\n      <td>0</td>\n      <td>0</td>\n    </tr>\n    <tr>\n      <th>...</th>\n      <td>...</td>\n      <td>...</td>\n      <td>...</td>\n      <td>...</td>\n      <td>...</td>\n      <td>...</td>\n      <td>...</td>\n      <td>...</td>\n      <td>...</td>\n      <td>...</td>\n      <td>...</td>\n      <td>...</td>\n      <td>...</td>\n      <td>...</td>\n      <td>...</td>\n      <td>...</td>\n      <td>...</td>\n      <td>...</td>\n      <td>...</td>\n      <td>...</td>\n      <td>...</td>\n    </tr>\n    <tr>\n      <th>27273</th>\n      <td>131254</td>\n      <td>Kein Bund für's Leben (2007)</td>\n      <td>0</td>\n      <td>0</td>\n      <td>0</td>\n      <td>1</td>\n      <td>0</td>\n      <td>0</td>\n      <td>0</td>\n      <td>0</td>\n      <td>...</td>\n      <td>0</td>\n      <td>0</td>\n      <td>0</td>\n      <td>0</td>\n      <td>0</td>\n      <td>0</td>\n      <td>0</td>\n      <td>0</td>\n      <td>0</td>\n      <td>0</td>\n    </tr>\n    <tr>\n      <th>27274</th>\n      <td>131256</td>\n      <td>Feuer, Eis &amp; Dosenbier (2002)</td>\n      <td>0</td>\n      <td>0</td>\n      <td>0</td>\n      <td>1</td>\n      <td>0</td>\n      <td>0</td>\n      <td>0</td>\n      <td>0</td>\n      <td>...</td>\n      <td>0</td>\n      <td>0</td>\n      <td>0</td>\n      <td>0</td>\n      <td>0</td>\n      <td>0</td>\n      <td>0</td>\n      <td>0</td>\n      <td>0</td>\n      <td>0</td>\n    </tr>\n    <tr>\n      <th>27275</th>\n      <td>131258</td>\n      <td>The Pirates (2014)</td>\n      <td>1</td>\n      <td>0</td>\n      <td>0</td>\n      <td>0</td>\n      <td>0</td>\n      <td>0</td>\n      <td>0</td>\n      <td>0</td>\n      <td>...</td>\n      <td>0</td>\n      <td>0</td>\n      <td>0</td>\n      <td>0</td>\n      <td>0</td>\n      <td>0</td>\n      <td>0</td>\n      <td>0</td>\n      <td>0</td>\n      <td>0</td>\n    </tr>\n    <tr>\n      <th>27276</th>\n      <td>131260</td>\n      <td>Rentun Ruusu (2001)</td>\n      <td>0</td>\n      <td>0</td>\n      <td>0</td>\n      <td>0</td>\n      <td>0</td>\n      <td>0</td>\n      <td>0</td>\n      <td>0</td>\n      <td>...</td>\n      <td>0</td>\n      <td>0</td>\n      <td>0</td>\n      <td>0</td>\n      <td>0</td>\n      <td>0</td>\n      <td>0</td>\n      <td>0</td>\n      <td>0</td>\n      <td>1</td>\n    </tr>\n    <tr>\n      <th>27277</th>\n      <td>131262</td>\n      <td>Innocence (2014)</td>\n      <td>1</td>\n      <td>0</td>\n      <td>0</td>\n      <td>0</td>\n      <td>1</td>\n      <td>0</td>\n      <td>0</td>\n      <td>0</td>\n      <td>...</td>\n      <td>1</td>\n      <td>0</td>\n      <td>0</td>\n      <td>0</td>\n      <td>0</td>\n      <td>0</td>\n      <td>0</td>\n      <td>0</td>\n      <td>0</td>\n      <td>0</td>\n    </tr>\n  </tbody>\n</table>\n<p>27278 rows × 22 columns</p>\n</div>"
     },
     "execution_count": 8,
     "metadata": {},
     "output_type": "execute_result"
    }
   ],
   "source": [
    "for genre in genres:\n",
    "    movies_encoded[genre] = movies[\"genres\"].str.contains(genre).astype('int')\n",
    "movies_encoded.drop('genres', axis=1, inplace=True)\n",
    "movies_encoded"
   ]
  },
  {
   "cell_type": "code",
   "execution_count": 9,
   "id": "ba8ed3ba",
   "metadata": {},
   "outputs": [
    {
     "data": {
      "text/plain": "array([[1, 1, 1, ..., 0, 0, 0],\n       [1, 0, 1, ..., 0, 0, 0],\n       [0, 0, 0, ..., 0, 0, 0],\n       ...,\n       [1, 0, 0, ..., 0, 0, 0],\n       [0, 0, 0, ..., 0, 0, 1],\n       [1, 0, 0, ..., 0, 0, 0]])"
     },
     "execution_count": 9,
     "metadata": {},
     "output_type": "execute_result"
    }
   ],
   "source": [
    "X = movies_encoded[movies_encoded[movies_encoded.columns[2:]].columns].values\n",
    "X"
   ]
  },
  {
   "cell_type": "code",
   "execution_count": 10,
   "outputs": [],
   "source": [
    "# Choose the range of k values to test.\n",
    "# We added a stride of 5 to improve performance. We don't need to calculate the error for every k value\n",
    "possible_k_values = range(2, 1500, 100)\n",
    "\n",
    "# Calculate error values for all k values we're interested in\n",
    "errors_per_k = [clustering_errors(k, X) for k in possible_k_values]"
   ],
   "metadata": {
    "collapsed": false
   }
  },
  {
   "cell_type": "code",
   "execution_count": 11,
   "outputs": [
    {
     "data": {
      "text/plain": "<Figure size 1600x600 with 1 Axes>",
      "image/png": "[encoded data removed]"
     },
     "metadata": {},
     "output_type": "display_data"
    }
   ],
   "source": [
    "# Plot the each value of K vs. the silhouette score at that value\n",
    "fig, ax = plt.subplots(figsize=(16, 6))\n",
    "ax.set_xlabel('K - number of clusters')\n",
    "ax.set_ylabel('Silhouette Score (higher is better)')\n",
    "ax.plot(possible_k_values, errors_per_k)\n",
    "\n",
    "# Ticks and grid\n",
    "xticks = np.arange(min(possible_k_values), max(possible_k_values)+1, 100)\n",
    "ax.set_xticks(xticks, minor=False)\n",
    "ax.set_xticks(xticks, minor=True)\n",
    "ax.xaxis.grid(True, which='both')\n",
    "yticks = np.arange(round(min(errors_per_k), 2), max(errors_per_k), .05)\n",
    "ax.set_yticks(yticks, minor=False)\n",
    "ax.set_yticks(yticks, minor=True)\n",
    "ax.yaxis.grid(True, which='both')"
   ],
   "metadata": {
    "collapsed": false
   }
  },
  {
   "cell_type": "code",
   "execution_count": 12,
   "id": "9ddbb25f",
   "metadata": {},
   "outputs": [
    {
     "data": {
      "text/plain": "       movieId                               title  \\\n0            1                    Toy Story (1995)   \n1            2                      Jumanji (1995)   \n2            3             Grumpier Old Men (1995)   \n3            4            Waiting to Exhale (1995)   \n4            5  Father of the Bride Part II (1995)   \n...        ...                                 ...   \n27273   131254        Kein Bund für's Leben (2007)   \n27274   131256       Feuer, Eis & Dosenbier (2002)   \n27275   131258                  The Pirates (2014)   \n27276   131260                 Rentun Ruusu (2001)   \n27277   131262                    Innocence (2014)   \n\n                                            genres  \n0      Adventure|Animation|Children|Comedy|Fantasy  \n1                       Adventure|Children|Fantasy  \n2                                   Comedy|Romance  \n3                             Comedy|Drama|Romance  \n4                                           Comedy  \n...                                            ...  \n27273                                       Comedy  \n27274                                       Comedy  \n27275                                    Adventure  \n27276                           (no genres listed)  \n27277                     Adventure|Fantasy|Horror  \n\n[27278 rows x 3 columns]",
      "text/html": "<div>\n<style scoped>\n    .dataframe tbody tr th:only-of-type {\n        vertical-align: middle;\n    }\n\n    .dataframe tbody tr th {\n        vertical-align: top;\n    }\n\n    .dataframe thead th {\n        text-align: right;\n    }\n</style>\n<table border=\"1\" class=\"dataframe\">\n  <thead>\n    <tr style=\"text-align: right;\">\n      <th></th>\n      <th>movieId</th>\n      <th>title</th>\n      <th>genres</th>\n    </tr>\n  </thead>\n  <tbody>\n    <tr>\n      <th>0</th>\n      <td>1</td>\n      <td>Toy Story (1995)</td>\n      <td>Adventure|Animation|Children|Comedy|Fantasy</td>\n    </tr>\n    <tr>\n      <th>1</th>\n      <td>2</td>\n      <td>Jumanji (1995)</td>\n      <td>Adventure|Children|Fantasy</td>\n    </tr>\n    <tr>\n      <th>2</th>\n      <td>3</td>\n      <td>Grumpier Old Men (1995)</td>\n      <td>Comedy|Romance</td>\n    </tr>\n    <tr>\n      <th>3</th>\n      <td>4</td>\n      <td>Waiting to Exhale (1995)</td>\n      <td>Comedy|Drama|Romance</td>\n    </tr>\n    <tr>\n      <th>4</th>\n      <td>5</td>\n      <td>Father of the Bride Part II (1995)</td>\n      <td>Comedy</td>\n    </tr>\n    <tr>\n      <th>...</th>\n      <td>...</td>\n      <td>...</td>\n      <td>...</td>\n    </tr>\n    <tr>\n      <th>27273</th>\n      <td>131254</td>\n      <td>Kein Bund für's Leben (2007)</td>\n      <td>Comedy</td>\n    </tr>\n    <tr>\n      <th>27274</th>\n      <td>131256</td>\n      <td>Feuer, Eis &amp; Dosenbier (2002)</td>\n      <td>Comedy</td>\n    </tr>\n    <tr>\n      <th>27275</th>\n      <td>131258</td>\n      <td>The Pirates (2014)</td>\n      <td>Adventure</td>\n    </tr>\n    <tr>\n      <th>27276</th>\n      <td>131260</td>\n      <td>Rentun Ruusu (2001)</td>\n      <td>(no genres listed)</td>\n    </tr>\n    <tr>\n      <th>27277</th>\n      <td>131262</td>\n      <td>Innocence (2014)</td>\n      <td>Adventure|Fantasy|Horror</td>\n    </tr>\n  </tbody>\n</table>\n<p>27278 rows × 3 columns</p>\n</div>"
     },
     "execution_count": 12,
     "metadata": {},
     "output_type": "execute_result"
    }
   ],
   "source": [
    "movies"
   ]
  },
  {
   "cell_type": "code",
   "execution_count": 13,
   "id": "77d48bae",
   "metadata": {},
   "outputs": [],
   "source": [
    "kmeans = KMeans(500)\n",
    "clusters = kmeans.fit_predict(movies_encoded[movies_encoded.columns[2:]])"
   ]
  },
  {
   "cell_type": "code",
   "execution_count": 14,
   "id": "5401f93c",
   "metadata": {},
   "outputs": [
    {
     "data": {
      "text/plain": "array([162,  49,  13, ...,  82,  22,  60])"
     },
     "execution_count": 14,
     "metadata": {},
     "output_type": "execute_result"
    }
   ],
   "source": [
    "clusters"
   ]
  },
  {
   "cell_type": "code",
   "execution_count": 14,
   "id": "5730aeba",
   "metadata": {},
   "outputs": [],
   "source": []
  },
  {
   "cell_type": "code",
   "execution_count": 15,
   "id": "8d79498b",
   "metadata": {},
   "outputs": [
    {
     "data": {
      "text/plain": "       movieId                               title  cluster\n0            1                    Toy Story (1995)      162\n1            2                      Jumanji (1995)       49\n2            3             Grumpier Old Men (1995)       13\n3            4            Waiting to Exhale (1995)       21\n4            5  Father of the Bride Part II (1995)        2\n...        ...                                 ...      ...\n27273   131254        Kein Bund für's Leben (2007)        2\n27274   131256       Feuer, Eis & Dosenbier (2002)        2\n27275   131258                  The Pirates (2014)       82\n27276   131260                 Rentun Ruusu (2001)       22\n27277   131262                    Innocence (2014)       60\n\n[27278 rows x 3 columns]",
      "text/html": "<div>\n<style scoped>\n    .dataframe tbody tr th:only-of-type {\n        vertical-align: middle;\n    }\n\n    .dataframe tbody tr th {\n        vertical-align: top;\n    }\n\n    .dataframe thead th {\n        text-align: right;\n    }\n</style>\n<table border=\"1\" class=\"dataframe\">\n  <thead>\n    <tr style=\"text-align: right;\">\n      <th></th>\n      <th>movieId</th>\n      <th>title</th>\n      <th>cluster</th>\n    </tr>\n  </thead>\n  <tbody>\n    <tr>\n      <th>0</th>\n      <td>1</td>\n      <td>Toy Story (1995)</td>\n      <td>162</td>\n    </tr>\n    <tr>\n      <th>1</th>\n      <td>2</td>\n      <td>Jumanji (1995)</td>\n      <td>49</td>\n    </tr>\n    <tr>\n      <th>2</th>\n      <td>3</td>\n      <td>Grumpier Old Men (1995)</td>\n      <td>13</td>\n    </tr>\n    <tr>\n      <th>3</th>\n      <td>4</td>\n      <td>Waiting to Exhale (1995)</td>\n      <td>21</td>\n    </tr>\n    <tr>\n      <th>4</th>\n      <td>5</td>\n      <td>Father of the Bride Part II (1995)</td>\n      <td>2</td>\n    </tr>\n    <tr>\n      <th>...</th>\n      <td>...</td>\n      <td>...</td>\n      <td>...</td>\n    </tr>\n    <tr>\n      <th>27273</th>\n      <td>131254</td>\n      <td>Kein Bund für's Leben (2007)</td>\n      <td>2</td>\n    </tr>\n    <tr>\n      <th>27274</th>\n      <td>131256</td>\n      <td>Feuer, Eis &amp; Dosenbier (2002)</td>\n      <td>2</td>\n    </tr>\n    <tr>\n      <th>27275</th>\n      <td>131258</td>\n      <td>The Pirates (2014)</td>\n      <td>82</td>\n    </tr>\n    <tr>\n      <th>27276</th>\n      <td>131260</td>\n      <td>Rentun Ruusu (2001)</td>\n      <td>22</td>\n    </tr>\n    <tr>\n      <th>27277</th>\n      <td>131262</td>\n      <td>Innocence (2014)</td>\n      <td>60</td>\n    </tr>\n  </tbody>\n</table>\n<p>27278 rows × 3 columns</p>\n</div>"
     },
     "execution_count": 15,
     "metadata": {},
     "output_type": "execute_result"
    }
   ],
   "source": [
    "movies_cluster = pd.DataFrame(movies[['movieId', 'title']])\n",
    "movies_cluster['cluster'] = clusters.tolist()\n",
    "movies_cluster"
   ]
  },
  {
   "cell_type": "code",
   "execution_count": 15,
   "id": "0babb13d",
   "metadata": {},
   "outputs": [],
   "source": []
  },
  {
   "cell_type": "code",
   "execution_count": 16,
   "id": "76710e57",
   "metadata": {},
   "outputs": [],
   "source": [
    "tfidf_vector = TfidfVectorizer()\n",
    "tfidf_matrix = tfidf_vector.fit_transform(movies_temp['genres']).toarray()\n",
    "tfidf_matrix_feature = tfidf_vector.get_feature_names()"
   ]
  },
  {
   "cell_type": "code",
   "execution_count": 17,
   "id": "10e5d017",
   "metadata": {},
   "outputs": [
    {
     "name": "stdout",
     "output_type": "stream",
     "text": [
      "Wall time: 12.1 s\n"
     ]
    }
   ],
   "source": [
    "%%time\n",
    "cosine_sim = cosine_similarity(tfidf_matrix)"
   ]
  },
  {
   "cell_type": "code",
   "execution_count": 18,
   "id": "88bb4d8a",
   "metadata": {},
   "outputs": [
    {
     "data": {
      "text/plain": "title                               Toy Story (1995)  Jumanji (1995)  \\\ntitle                                                                  \nToy Story (1995)                            1.000000        0.813394   \nJumanji (1995)                              0.813394        1.000000   \nGrumpier Old Men (1995)                     0.159187        0.000000   \nWaiting to Exhale (1995)                    0.143854        0.000000   \nFather of the Bride Part II (1995)          0.264175        0.000000   \n...                                              ...             ...   \nKein Bund für's Leben (2007)                0.264175        0.000000   \nFeuer, Eis & Dosenbier (2002)               0.264175        0.000000   \nThe Pirates (2014)                          0.419151        0.515311   \nRentun Ruusu (2001)                         0.000000        0.000000   \nInnocence (2014)                            0.537488        0.660797   \n\ntitle                               Grumpier Old Men (1995)  \\\ntitle                                                         \nToy Story (1995)                                   0.159187   \nJumanji (1995)                                     0.000000   \nGrumpier Old Men (1995)                            1.000000   \nWaiting to Exhale (1995)                           0.903678   \nFather of the Bride Part II (1995)                 0.602583   \n...                                                     ...   \nKein Bund für's Leben (2007)                       0.602583   \nFeuer, Eis & Dosenbier (2002)                      0.602583   \nThe Pirates (2014)                                 0.000000   \nRentun Ruusu (2001)                                0.000000   \nInnocence (2014)                                   0.000000   \n\ntitle                               Waiting to Exhale (1995)  \\\ntitle                                                          \nToy Story (1995)                                    0.143854   \nJumanji (1995)                                      0.000000   \nGrumpier Old Men (1995)                             0.903678   \nWaiting to Exhale (1995)                            1.000000   \nFather of the Bride Part II (1995)                  0.544541   \n...                                                      ...   \nKein Bund für's Leben (2007)                        0.544541   \nFeuer, Eis & Dosenbier (2002)                       0.544541   \nThe Pirates (2014)                                  0.000000   \nRentun Ruusu (2001)                                 0.000000   \nInnocence (2014)                                    0.000000   \n\ntitle                               Father of the Bride Part II (1995)  \\\ntitle                                                                    \nToy Story (1995)                                              0.264175   \nJumanji (1995)                                                0.000000   \nGrumpier Old Men (1995)                                       0.602583   \nWaiting to Exhale (1995)                                      0.544541   \nFather of the Bride Part II (1995)                            1.000000   \n...                                                                ...   \nKein Bund für's Leben (2007)                                  1.000000   \nFeuer, Eis & Dosenbier (2002)                                 1.000000   \nThe Pirates (2014)                                            0.000000   \nRentun Ruusu (2001)                                           0.000000   \nInnocence (2014)                                              0.000000   \n\ntitle                               Heat (1995)  Sabrina (1995)  \\\ntitle                                                             \nToy Story (1995)                            0.0        0.159187   \nJumanji (1995)                              0.0        0.000000   \nGrumpier Old Men (1995)                     0.0        1.000000   \nWaiting to Exhale (1995)                    0.0        0.903678   \nFather of the Bride Part II (1995)          0.0        0.602583   \n...                                         ...             ...   \nKein Bund für's Leben (2007)                0.0        0.602583   \nFeuer, Eis & Dosenbier (2002)               0.0        0.602583   \nThe Pirates (2014)                          0.0        0.000000   \nRentun Ruusu (2001)                         0.0        0.000000   \nInnocence (2014)                            0.0        0.000000   \n\ntitle                               Tom and Huck (1995)  Sudden Death (1995)  \\\ntitle                                                                          \nToy Story (1995)                               0.656858                  0.0   \nJumanji (1995)                                 0.807552                  0.0   \nGrumpier Old Men (1995)                        0.000000                  0.0   \nWaiting to Exhale (1995)                       0.000000                  0.0   \nFather of the Bride Part II (1995)             0.000000                  0.0   \n...                                                 ...                  ...   \nKein Bund für's Leben (2007)                   0.000000                  0.0   \nFeuer, Eis & Dosenbier (2002)                  0.000000                  0.0   \nThe Pirates (2014)                             0.638115                  0.0   \nRentun Ruusu (2001)                            0.000000                  0.0   \nInnocence (2014)                               0.354233                  0.0   \n\ntitle                               GoldenEye (1995)  ...  \\\ntitle                                                 ...   \nToy Story (1995)                            0.266892  ...   \nJumanji (1995)                              0.328122  ...   \nGrumpier Old Men (1995)                     0.000000  ...   \nWaiting to Exhale (1995)                    0.000000  ...   \nFather of the Bride Part II (1995)          0.000000  ...   \n...                                              ...  ...   \nKein Bund für's Leben (2007)                0.000000  ...   \nFeuer, Eis & Dosenbier (2002)               0.000000  ...   \nThe Pirates (2014)                          0.636744  ...   \nRentun Ruusu (2001)                         0.000000  ...   \nInnocence (2014)                            0.353472  ...   \n\ntitle                               Ants in the Pants (2000)  \\\ntitle                                                          \nToy Story (1995)                                    0.159187   \nJumanji (1995)                                      0.000000   \nGrumpier Old Men (1995)                             1.000000   \nWaiting to Exhale (1995)                            0.903678   \nFather of the Bride Part II (1995)                  0.602583   \n...                                                      ...   \nKein Bund für's Leben (2007)                        0.602583   \nFeuer, Eis & Dosenbier (2002)                       0.602583   \nThe Pirates (2014)                                  0.000000   \nRentun Ruusu (2001)                                 0.000000   \nInnocence (2014)                                    0.000000   \n\ntitle                               Werner - Gekotzt wird später (2003)  \\\ntitle                                                                     \nToy Story (1995)                                               0.581714   \nJumanji (1995)                                                 0.000000   \nGrumpier Old Men (1995)                                        0.273653   \nWaiting to Exhale (1995)                                       0.247294   \nFather of the Bride Part II (1995)                             0.454133   \n...                                                                 ...   \nKein Bund für's Leben (2007)                                   0.454133   \nFeuer, Eis & Dosenbier (2002)                                  0.454133   \nThe Pirates (2014)                                             0.000000   \nRentun Ruusu (2001)                                            0.000000   \nInnocence (2014)                                               0.000000   \n\ntitle                               Brother Bear 2 (2006)  \\\ntitle                                                       \nToy Story (1995)                                 1.000000   \nJumanji (1995)                                   0.813394   \nGrumpier Old Men (1995)                          0.159187   \nWaiting to Exhale (1995)                         0.143854   \nFather of the Bride Part II (1995)               0.264175   \n...                                                   ...   \nKein Bund für's Leben (2007)                     0.264175   \nFeuer, Eis & Dosenbier (2002)                    0.264175   \nThe Pirates (2014)                               0.419151   \nRentun Ruusu (2001)                              0.000000   \nInnocence (2014)                                 0.537488   \n\ntitle                               No More School (2000)  \\\ntitle                                                       \nToy Story (1995)                                 0.264175   \nJumanji (1995)                                   0.000000   \nGrumpier Old Men (1995)                          0.602583   \nWaiting to Exhale (1995)                         0.544541   \nFather of the Bride Part II (1995)               1.000000   \n...                                                   ...   \nKein Bund für's Leben (2007)                     1.000000   \nFeuer, Eis & Dosenbier (2002)                    1.000000   \nThe Pirates (2014)                               0.000000   \nRentun Ruusu (2001)                              0.000000   \nInnocence (2014)                                 0.000000   \n\ntitle                               Forklift Driver Klaus: The First Day on the Job (2001)  \\\ntitle                                                                                        \nToy Story (1995)                                                             0.144250        \nJumanji (1995)                                                               0.000000        \nGrumpier Old Men (1995)                                                      0.329033        \nWaiting to Exhale (1995)                                                     0.297340        \nFather of the Bride Part II (1995)                                           0.546038        \n...                                                                               ...        \nKein Bund für's Leben (2007)                                                 0.546038        \nFeuer, Eis & Dosenbier (2002)                                                0.546038        \nThe Pirates (2014)                                                           0.000000        \nRentun Ruusu (2001)                                                          0.000000        \nInnocence (2014)                                                             0.449706        \n\ntitle                               Kein Bund für's Leben (2007)  \\\ntitle                                                              \nToy Story (1995)                                        0.264175   \nJumanji (1995)                                          0.000000   \nGrumpier Old Men (1995)                                 0.602583   \nWaiting to Exhale (1995)                                0.544541   \nFather of the Bride Part II (1995)                      1.000000   \n...                                                          ...   \nKein Bund für's Leben (2007)                            1.000000   \nFeuer, Eis & Dosenbier (2002)                           1.000000   \nThe Pirates (2014)                                      0.000000   \nRentun Ruusu (2001)                                     0.000000   \nInnocence (2014)                                        0.000000   \n\ntitle                               Feuer, Eis & Dosenbier (2002)  \\\ntitle                                                               \nToy Story (1995)                                         0.264175   \nJumanji (1995)                                           0.000000   \nGrumpier Old Men (1995)                                  0.602583   \nWaiting to Exhale (1995)                                 0.544541   \nFather of the Bride Part II (1995)                       1.000000   \n...                                                           ...   \nKein Bund für's Leben (2007)                             1.000000   \nFeuer, Eis & Dosenbier (2002)                            1.000000   \nThe Pirates (2014)                                       0.000000   \nRentun Ruusu (2001)                                      0.000000   \nInnocence (2014)                                         0.000000   \n\ntitle                               The Pirates (2014)  Rentun Ruusu (2001)  \\\ntitle                                                                         \nToy Story (1995)                              0.419151                  0.0   \nJumanji (1995)                                0.515311                  0.0   \nGrumpier Old Men (1995)                       0.000000                  0.0   \nWaiting to Exhale (1995)                      0.000000                  0.0   \nFather of the Bride Part II (1995)            0.000000                  0.0   \n...                                                ...                  ...   \nKein Bund für's Leben (2007)                  0.000000                  0.0   \nFeuer, Eis & Dosenbier (2002)                 0.000000                  0.0   \nThe Pirates (2014)                            1.000000                  0.0   \nRentun Ruusu (2001)                           0.000000                  1.0   \nInnocence (2014)                              0.555125                  0.0   \n\ntitle                               Innocence (2014)  \ntitle                                                 \nToy Story (1995)                            0.537488  \nJumanji (1995)                              0.660797  \nGrumpier Old Men (1995)                     0.000000  \nWaiting to Exhale (1995)                    0.000000  \nFather of the Bride Part II (1995)          0.000000  \n...                                              ...  \nKein Bund für's Leben (2007)                0.000000  \nFeuer, Eis & Dosenbier (2002)               0.000000  \nThe Pirates (2014)                          0.555125  \nRentun Ruusu (2001)                         0.000000  \nInnocence (2014)                            1.000000  \n\n[27278 rows x 27278 columns]",
      "text/html": "<div>\n<style scoped>\n    .dataframe tbody tr th:only-of-type {\n        vertical-align: middle;\n    }\n\n    .dataframe tbody tr th {\n        vertical-align: top;\n    }\n\n    .dataframe thead th {\n        text-align: right;\n    }\n</style>\n<table border=\"1\" class=\"dataframe\">\n  <thead>\n    <tr style=\"text-align: right;\">\n      <th>title</th>\n      <th>Toy Story (1995)</th>\n      <th>Jumanji (1995)</th>\n      <th>Grumpier Old Men (1995)</th>\n      <th>Waiting to Exhale (1995)</th>\n      <th>Father of the Bride Part II (1995)</th>\n      <th>Heat (1995)</th>\n      <th>Sabrina (1995)</th>\n      <th>Tom and Huck (1995)</th>\n      <th>Sudden Death (1995)</th>\n      <th>GoldenEye (1995)</th>\n      <th>...</th>\n      <th>Ants in the Pants (2000)</th>\n      <th>Werner - Gekotzt wird später (2003)</th>\n      <th>Brother Bear 2 (2006)</th>\n      <th>No More School (2000)</th>\n      <th>Forklift Driver Klaus: The First Day on the Job (2001)</th>\n      <th>Kein Bund für's Leben (2007)</th>\n      <th>Feuer, Eis &amp; Dosenbier (2002)</th>\n      <th>The Pirates (2014)</th>\n      <th>Rentun Ruusu (2001)</th>\n      <th>Innocence (2014)</th>\n    </tr>\n    <tr>\n      <th>title</th>\n      <th></th>\n      <th></th>\n      <th></th>\n      <th></th>\n      <th></th>\n      <th></th>\n      <th></th>\n      <th></th>\n      <th></th>\n      <th></th>\n      <th></th>\n      <th></th>\n      <th></th>\n      <th></th>\n      <th></th>\n      <th></th>\n      <th></th>\n      <th></th>\n      <th></th>\n      <th></th>\n      <th></th>\n    </tr>\n  </thead>\n  <tbody>\n    <tr>\n      <th>Toy Story (1995)</th>\n      <td>1.000000</td>\n      <td>0.813394</td>\n      <td>0.159187</td>\n      <td>0.143854</td>\n      <td>0.264175</td>\n      <td>0.0</td>\n      <td>0.159187</td>\n      <td>0.656858</td>\n      <td>0.0</td>\n      <td>0.266892</td>\n      <td>...</td>\n      <td>0.159187</td>\n      <td>0.581714</td>\n      <td>1.000000</td>\n      <td>0.264175</td>\n      <td>0.144250</td>\n      <td>0.264175</td>\n      <td>0.264175</td>\n      <td>0.419151</td>\n      <td>0.0</td>\n      <td>0.537488</td>\n    </tr>\n    <tr>\n      <th>Jumanji (1995)</th>\n      <td>0.813394</td>\n      <td>1.000000</td>\n      <td>0.000000</td>\n      <td>0.000000</td>\n      <td>0.000000</td>\n      <td>0.0</td>\n      <td>0.000000</td>\n      <td>0.807552</td>\n      <td>0.0</td>\n      <td>0.328122</td>\n      <td>...</td>\n      <td>0.000000</td>\n      <td>0.000000</td>\n      <td>0.813394</td>\n      <td>0.000000</td>\n      <td>0.000000</td>\n      <td>0.000000</td>\n      <td>0.000000</td>\n      <td>0.515311</td>\n      <td>0.0</td>\n      <td>0.660797</td>\n    </tr>\n    <tr>\n      <th>Grumpier Old Men (1995)</th>\n      <td>0.159187</td>\n      <td>0.000000</td>\n      <td>1.000000</td>\n      <td>0.903678</td>\n      <td>0.602583</td>\n      <td>0.0</td>\n      <td>1.000000</td>\n      <td>0.000000</td>\n      <td>0.0</td>\n      <td>0.000000</td>\n      <td>...</td>\n      <td>1.000000</td>\n      <td>0.273653</td>\n      <td>0.159187</td>\n      <td>0.602583</td>\n      <td>0.329033</td>\n      <td>0.602583</td>\n      <td>0.602583</td>\n      <td>0.000000</td>\n      <td>0.0</td>\n      <td>0.000000</td>\n    </tr>\n    <tr>\n      <th>Waiting to Exhale (1995)</th>\n      <td>0.143854</td>\n      <td>0.000000</td>\n      <td>0.903678</td>\n      <td>1.000000</td>\n      <td>0.544541</td>\n      <td>0.0</td>\n      <td>0.903678</td>\n      <td>0.000000</td>\n      <td>0.0</td>\n      <td>0.000000</td>\n      <td>...</td>\n      <td>0.903678</td>\n      <td>0.247294</td>\n      <td>0.143854</td>\n      <td>0.544541</td>\n      <td>0.297340</td>\n      <td>0.544541</td>\n      <td>0.544541</td>\n      <td>0.000000</td>\n      <td>0.0</td>\n      <td>0.000000</td>\n    </tr>\n    <tr>\n      <th>Father of the Bride Part II (1995)</th>\n      <td>0.264175</td>\n      <td>0.000000</td>\n      <td>0.602583</td>\n      <td>0.544541</td>\n      <td>1.000000</td>\n      <td>0.0</td>\n      <td>0.602583</td>\n      <td>0.000000</td>\n      <td>0.0</td>\n      <td>0.000000</td>\n      <td>...</td>\n      <td>0.602583</td>\n      <td>0.454133</td>\n      <td>0.264175</td>\n      <td>1.000000</td>\n      <td>0.546038</td>\n      <td>1.000000</td>\n      <td>1.000000</td>\n      <td>0.000000</td>\n      <td>0.0</td>\n      <td>0.000000</td>\n    </tr>\n    <tr>\n      <th>...</th>\n      <td>...</td>\n      <td>...</td>\n      <td>...</td>\n      <td>...</td>\n      <td>...</td>\n      <td>...</td>\n      <td>...</td>\n      <td>...</td>\n      <td>...</td>\n      <td>...</td>\n      <td>...</td>\n      <td>...</td>\n      <td>...</td>\n      <td>...</td>\n      <td>...</td>\n      <td>...</td>\n      <td>...</td>\n      <td>...</td>\n      <td>...</td>\n      <td>...</td>\n      <td>...</td>\n    </tr>\n    <tr>\n      <th>Kein Bund für's Leben (2007)</th>\n      <td>0.264175</td>\n      <td>0.000000</td>\n      <td>0.602583</td>\n      <td>0.544541</td>\n      <td>1.000000</td>\n      <td>0.0</td>\n      <td>0.602583</td>\n      <td>0.000000</td>\n      <td>0.0</td>\n      <td>0.000000</td>\n      <td>...</td>\n      <td>0.602583</td>\n      <td>0.454133</td>\n      <td>0.264175</td>\n      <td>1.000000</td>\n      <td>0.546038</td>\n      <td>1.000000</td>\n      <td>1.000000</td>\n      <td>0.000000</td>\n      <td>0.0</td>\n      <td>0.000000</td>\n    </tr>\n    <tr>\n      <th>Feuer, Eis &amp; Dosenbier (2002)</th>\n      <td>0.264175</td>\n      <td>0.000000</td>\n      <td>0.602583</td>\n      <td>0.544541</td>\n      <td>1.000000</td>\n      <td>0.0</td>\n      <td>0.602583</td>\n      <td>0.000000</td>\n      <td>0.0</td>\n      <td>0.000000</td>\n      <td>...</td>\n      <td>0.602583</td>\n      <td>0.454133</td>\n      <td>0.264175</td>\n      <td>1.000000</td>\n      <td>0.546038</td>\n      <td>1.000000</td>\n      <td>1.000000</td>\n      <td>0.000000</td>\n      <td>0.0</td>\n      <td>0.000000</td>\n    </tr>\n    <tr>\n      <th>The Pirates (2014)</th>\n      <td>0.419151</td>\n      <td>0.515311</td>\n      <td>0.000000</td>\n      <td>0.000000</td>\n      <td>0.000000</td>\n      <td>0.0</td>\n      <td>0.000000</td>\n      <td>0.638115</td>\n      <td>0.0</td>\n      <td>0.636744</td>\n      <td>...</td>\n      <td>0.000000</td>\n      <td>0.000000</td>\n      <td>0.419151</td>\n      <td>0.000000</td>\n      <td>0.000000</td>\n      <td>0.000000</td>\n      <td>0.000000</td>\n      <td>1.000000</td>\n      <td>0.0</td>\n      <td>0.555125</td>\n    </tr>\n    <tr>\n      <th>Rentun Ruusu (2001)</th>\n      <td>0.000000</td>\n      <td>0.000000</td>\n      <td>0.000000</td>\n      <td>0.000000</td>\n      <td>0.000000</td>\n      <td>0.0</td>\n      <td>0.000000</td>\n      <td>0.000000</td>\n      <td>0.0</td>\n      <td>0.000000</td>\n      <td>...</td>\n      <td>0.000000</td>\n      <td>0.000000</td>\n      <td>0.000000</td>\n      <td>0.000000</td>\n      <td>0.000000</td>\n      <td>0.000000</td>\n      <td>0.000000</td>\n      <td>0.000000</td>\n      <td>1.0</td>\n      <td>0.000000</td>\n    </tr>\n    <tr>\n      <th>Innocence (2014)</th>\n      <td>0.537488</td>\n      <td>0.660797</td>\n      <td>0.000000</td>\n      <td>0.000000</td>\n      <td>0.000000</td>\n      <td>0.0</td>\n      <td>0.000000</td>\n      <td>0.354233</td>\n      <td>0.0</td>\n      <td>0.353472</td>\n      <td>...</td>\n      <td>0.000000</td>\n      <td>0.000000</td>\n      <td>0.537488</td>\n      <td>0.000000</td>\n      <td>0.449706</td>\n      <td>0.000000</td>\n      <td>0.000000</td>\n      <td>0.555125</td>\n      <td>0.0</td>\n      <td>1.000000</td>\n    </tr>\n  </tbody>\n</table>\n<p>27278 rows × 27278 columns</p>\n</div>"
     },
     "execution_count": 18,
     "metadata": {},
     "output_type": "execute_result"
    }
   ],
   "source": [
    "df_cosine = pd.DataFrame(cosine_sim, index = movies.title, columns = movies.title)\n",
    "df_cosine"
   ]
  },
  {
   "cell_type": "code",
   "execution_count": 19,
   "id": "a4c24346",
   "metadata": {},
   "outputs": [],
   "source": [
    "#function : recomend similar movies\n",
    "\n",
    "def genre_recommendations(target_title, matrix, items, cluster, k=10):\n",
    "    recom_idx = matrix.loc[:, target_title].values.reshape(1, -1).argsort()[:, ::-1].flatten()[1:k+1]\n",
    "    recom_title = items.iloc[recom_idx, :].title.values\n",
    "    recom_genre = items.iloc[recom_idx, :].genres.values\n",
    "    target_title_list = np.full(len(range(k)), target_title)\n",
    "    target_genre_list = np.full(len(range(k)), items[items.title == target_title].genres.values)\n",
    "    target_cluster_list = np.full(len(range(k)), cluster[cluster.title == target_title].cluster)\n",
    "    d = {\n",
    "        'title':target_title_list,\n",
    "        'recommendation' : recom_title,\n",
    "        'cluster' : target_cluster_list,\n",
    "    }\n",
    "    \n",
    "    return pd.DataFrame(d)"
   ]
  },
  {
   "cell_type": "code",
   "execution_count": 20,
   "id": "45060f1f",
   "metadata": {},
   "outputs": [
    {
     "data": {
      "text/plain": "              title                                     recommendation  \\\n0  Toy Story (1995)                                     Aladdin (1992)   \n1  Toy Story (1995)          Toy Story Toons: Hawaiian Vacation (2011)   \n2  Toy Story (1995)     Adventures of Rocky and Bullwinkle, The (2000)   \n3  Toy Story (1995)                                   Wild, The (2006)   \n4  Toy Story (1995)                           The Magic Crystal (2011)   \n5  Toy Story (1995)                                       Turbo (2013)   \n6  Toy Story (1995)  DuckTales: The Movie - Treasure of the Lost La...   \n7  Toy Story (1995)                   Emperor's New Groove, The (2000)   \n8  Toy Story (1995)  Asterix and the Vikings (Astérix et les Viking...   \n9  Toy Story (1995)                                 Toy Story 2 (1999)   \n\n   cluster  \n0      162  \n1      162  \n2      162  \n3      162  \n4      162  \n5      162  \n6      162  \n7      162  \n8      162  \n9      162  ",
      "text/html": "<div>\n<style scoped>\n    .dataframe tbody tr th:only-of-type {\n        vertical-align: middle;\n    }\n\n    .dataframe tbody tr th {\n        vertical-align: top;\n    }\n\n    .dataframe thead th {\n        text-align: right;\n    }\n</style>\n<table border=\"1\" class=\"dataframe\">\n  <thead>\n    <tr style=\"text-align: right;\">\n      <th></th>\n      <th>title</th>\n      <th>recommendation</th>\n      <th>cluster</th>\n    </tr>\n  </thead>\n  <tbody>\n    <tr>\n      <th>0</th>\n      <td>Toy Story (1995)</td>\n      <td>Aladdin (1992)</td>\n      <td>162</td>\n    </tr>\n    <tr>\n      <th>1</th>\n      <td>Toy Story (1995)</td>\n      <td>Toy Story Toons: Hawaiian Vacation (2011)</td>\n      <td>162</td>\n    </tr>\n    <tr>\n      <th>2</th>\n      <td>Toy Story (1995)</td>\n      <td>Adventures of Rocky and Bullwinkle, The (2000)</td>\n      <td>162</td>\n    </tr>\n    <tr>\n      <th>3</th>\n      <td>Toy Story (1995)</td>\n      <td>Wild, The (2006)</td>\n      <td>162</td>\n    </tr>\n    <tr>\n      <th>4</th>\n      <td>Toy Story (1995)</td>\n      <td>The Magic Crystal (2011)</td>\n      <td>162</td>\n    </tr>\n    <tr>\n      <th>5</th>\n      <td>Toy Story (1995)</td>\n      <td>Turbo (2013)</td>\n      <td>162</td>\n    </tr>\n    <tr>\n      <th>6</th>\n      <td>Toy Story (1995)</td>\n      <td>DuckTales: The Movie - Treasure of the Lost La...</td>\n      <td>162</td>\n    </tr>\n    <tr>\n      <th>7</th>\n      <td>Toy Story (1995)</td>\n      <td>Emperor's New Groove, The (2000)</td>\n      <td>162</td>\n    </tr>\n    <tr>\n      <th>8</th>\n      <td>Toy Story (1995)</td>\n      <td>Asterix and the Vikings (Astérix et les Viking...</td>\n      <td>162</td>\n    </tr>\n    <tr>\n      <th>9</th>\n      <td>Toy Story (1995)</td>\n      <td>Toy Story 2 (1999)</td>\n      <td>162</td>\n    </tr>\n  </tbody>\n</table>\n</div>"
     },
     "execution_count": 20,
     "metadata": {},
     "output_type": "execute_result"
    }
   ],
   "source": [
    "genre_recommendations('Toy Story (1995)', df_cosine, movies, movies_cluster)"
   ]
  },
  {
   "cell_type": "code",
   "execution_count": 20,
   "outputs": [],
   "source": [],
   "metadata": {
    "collapsed": false
   }
  },
  {
   "cell_type": "markdown",
   "id": "3212c17f",
   "metadata": {},
   "source": [
    "# check with user data"
   ]
  },
  {
   "cell_type": "code",
   "execution_count": 21,
   "id": "1af86748",
   "metadata": {},
   "outputs": [
    {
     "data": {
      "text/plain": "          userId  movieId  rating            timestamp\n0              1        2     3.5  2005-04-02 23:53:47\n1              1       29     3.5  2005-04-02 23:31:16\n2              1       32     3.5  2005-04-02 23:33:39\n3              1       47     3.5  2005-04-02 23:32:07\n4              1       50     3.5  2005-04-02 23:29:40\n...          ...      ...     ...                  ...\n20000258  138493    68954     4.5  2009-11-13 15:42:00\n20000259  138493    69526     4.5  2009-12-03 18:31:48\n20000260  138493    69644     3.0  2009-12-07 18:10:57\n20000261  138493    70286     5.0  2009-11-13 15:42:24\n20000262  138493    71619     2.5  2009-10-17 20:25:36\n\n[20000263 rows x 4 columns]",
      "text/html": "<div>\n<style scoped>\n    .dataframe tbody tr th:only-of-type {\n        vertical-align: middle;\n    }\n\n    .dataframe tbody tr th {\n        vertical-align: top;\n    }\n\n    .dataframe thead th {\n        text-align: right;\n    }\n</style>\n<table border=\"1\" class=\"dataframe\">\n  <thead>\n    <tr style=\"text-align: right;\">\n      <th></th>\n      <th>userId</th>\n      <th>movieId</th>\n      <th>rating</th>\n      <th>timestamp</th>\n    </tr>\n  </thead>\n  <tbody>\n    <tr>\n      <th>0</th>\n      <td>1</td>\n      <td>2</td>\n      <td>3.5</td>\n      <td>2005-04-02 23:53:47</td>\n    </tr>\n    <tr>\n      <th>1</th>\n      <td>1</td>\n      <td>29</td>\n      <td>3.5</td>\n      <td>2005-04-02 23:31:16</td>\n    </tr>\n    <tr>\n      <th>2</th>\n      <td>1</td>\n      <td>32</td>\n      <td>3.5</td>\n      <td>2005-04-02 23:33:39</td>\n    </tr>\n    <tr>\n      <th>3</th>\n      <td>1</td>\n      <td>47</td>\n      <td>3.5</td>\n      <td>2005-04-02 23:32:07</td>\n    </tr>\n    <tr>\n      <th>4</th>\n      <td>1</td>\n      <td>50</td>\n      <td>3.5</td>\n      <td>2005-04-02 23:29:40</td>\n    </tr>\n    <tr>\n      <th>...</th>\n      <td>...</td>\n      <td>...</td>\n      <td>...</td>\n      <td>...</td>\n    </tr>\n    <tr>\n      <th>20000258</th>\n      <td>138493</td>\n      <td>68954</td>\n      <td>4.5</td>\n      <td>2009-11-13 15:42:00</td>\n    </tr>\n    <tr>\n      <th>20000259</th>\n      <td>138493</td>\n      <td>69526</td>\n      <td>4.5</td>\n      <td>2009-12-03 18:31:48</td>\n    </tr>\n    <tr>\n      <th>20000260</th>\n      <td>138493</td>\n      <td>69644</td>\n      <td>3.0</td>\n      <td>2009-12-07 18:10:57</td>\n    </tr>\n    <tr>\n      <th>20000261</th>\n      <td>138493</td>\n      <td>70286</td>\n      <td>5.0</td>\n      <td>2009-11-13 15:42:24</td>\n    </tr>\n    <tr>\n      <th>20000262</th>\n      <td>138493</td>\n      <td>71619</td>\n      <td>2.5</td>\n      <td>2009-10-17 20:25:36</td>\n    </tr>\n  </tbody>\n</table>\n<p>20000263 rows × 4 columns</p>\n</div>"
     },
     "execution_count": 21,
     "metadata": {},
     "output_type": "execute_result"
    }
   ],
   "source": [
    "data_rating = pd.read_csv(\"./dataSet/rating.csv\")\n",
    "data_rating"
   ]
  },
  {
   "cell_type": "markdown",
   "id": "30f11fa8",
   "metadata": {},
   "source": [
    "## find 1 user"
   ]
  },
  {
   "cell_type": "code",
   "execution_count": 22,
   "outputs": [],
   "source": [
    "def getUserCluseterRate(data_rating, userId):\n",
    "    user_data = data_rating.loc[data_rating['userId'] == userId]\n",
    "    user_data = pd.merge(user_data,movies_cluster)\n",
    "    user_cluster_rate = pd.DataFrame()\n",
    "    user_cluster_rate.index.name = 'cluster'\n",
    "    user_cluster_rate['cluster count'] = user_data['cluster'].value_counts()\n",
    "    user_cluster_rate['cluster average rate'] = user_data.groupby(['cluster']).mean()['rating']\n",
    "    user_cluster_rate.reset_index(inplace=True)\n",
    "    return user_data, user_cluster_rate"
   ],
   "metadata": {
    "collapsed": false
   }
  },
  {
   "cell_type": "code",
   "execution_count": 23,
   "outputs": [
    {
     "data": {
      "text/plain": "     userId  movieId  rating            timestamp  \\\n0     13849        1     3.5  2005-12-29 19:40:31   \n1     13849        2     2.0  2005-12-29 19:47:38   \n2     13849        3     2.0  2005-12-29 19:52:01   \n3     13849        5     1.5  2005-12-29 19:53:45   \n4     13849        6     4.0  2005-12-29 19:45:16   \n..      ...      ...     ...                  ...   \n885   13849    33794     2.5  2005-12-29 20:12:32   \n886   13849    36276     3.5  2005-12-30 21:49:44   \n887   13849    36529     3.5  2005-12-29 20:10:48   \n888   13849    39052     3.0  2005-12-30 21:49:35   \n889   13849    40815     2.5  2005-12-30 21:50:13   \n\n                                          title  cluster  \n0                              Toy Story (1995)      162  \n1                                Jumanji (1995)       49  \n2                       Grumpier Old Men (1995)       13  \n3            Father of the Bride Part II (1995)        2  \n4                                   Heat (1995)       19  \n..                                          ...      ...  \n885                        Batman Begins (2005)       86  \n886        Hidden (a.k.a. Cache) (Caché) (2005)       36  \n887                          Lord of War (2005)       10  \n888        Star Wreck: In the Pirkinning (2005)      157  \n889  Harry Potter and the Goblet of Fire (2005)      386  \n\n[890 rows x 6 columns]",
      "text/html": "<div>\n<style scoped>\n    .dataframe tbody tr th:only-of-type {\n        vertical-align: middle;\n    }\n\n    .dataframe tbody tr th {\n        vertical-align: top;\n    }\n\n    .dataframe thead th {\n        text-align: right;\n    }\n</style>\n<table border=\"1\" class=\"dataframe\">\n  <thead>\n    <tr style=\"text-align: right;\">\n      <th></th>\n      <th>userId</th>\n      <th>movieId</th>\n      <th>rating</th>\n      <th>timestamp</th>\n      <th>title</th>\n      <th>cluster</th>\n    </tr>\n  </thead>\n  <tbody>\n    <tr>\n      <th>0</th>\n      <td>13849</td>\n      <td>1</td>\n      <td>3.5</td>\n      <td>2005-12-29 19:40:31</td>\n      <td>Toy Story (1995)</td>\n      <td>162</td>\n    </tr>\n    <tr>\n      <th>1</th>\n      <td>13849</td>\n      <td>2</td>\n      <td>2.0</td>\n      <td>2005-12-29 19:47:38</td>\n      <td>Jumanji (1995)</td>\n      <td>49</td>\n    </tr>\n    <tr>\n      <th>2</th>\n      <td>13849</td>\n      <td>3</td>\n      <td>2.0</td>\n      <td>2005-12-29 19:52:01</td>\n      <td>Grumpier Old Men (1995)</td>\n      <td>13</td>\n    </tr>\n    <tr>\n      <th>3</th>\n      <td>13849</td>\n      <td>5</td>\n      <td>1.5</td>\n      <td>2005-12-29 19:53:45</td>\n      <td>Father of the Bride Part II (1995)</td>\n      <td>2</td>\n    </tr>\n    <tr>\n      <th>4</th>\n      <td>13849</td>\n      <td>6</td>\n      <td>4.0</td>\n      <td>2005-12-29 19:45:16</td>\n      <td>Heat (1995)</td>\n      <td>19</td>\n    </tr>\n    <tr>\n      <th>...</th>\n      <td>...</td>\n      <td>...</td>\n      <td>...</td>\n      <td>...</td>\n      <td>...</td>\n      <td>...</td>\n    </tr>\n    <tr>\n      <th>885</th>\n      <td>13849</td>\n      <td>33794</td>\n      <td>2.5</td>\n      <td>2005-12-29 20:12:32</td>\n      <td>Batman Begins (2005)</td>\n      <td>86</td>\n    </tr>\n    <tr>\n      <th>886</th>\n      <td>13849</td>\n      <td>36276</td>\n      <td>3.5</td>\n      <td>2005-12-30 21:49:44</td>\n      <td>Hidden (a.k.a. Cache) (Caché) (2005)</td>\n      <td>36</td>\n    </tr>\n    <tr>\n      <th>887</th>\n      <td>13849</td>\n      <td>36529</td>\n      <td>3.5</td>\n      <td>2005-12-29 20:10:48</td>\n      <td>Lord of War (2005)</td>\n      <td>10</td>\n    </tr>\n    <tr>\n      <th>888</th>\n      <td>13849</td>\n      <td>39052</td>\n      <td>3.0</td>\n      <td>2005-12-30 21:49:35</td>\n      <td>Star Wreck: In the Pirkinning (2005)</td>\n      <td>157</td>\n    </tr>\n    <tr>\n      <th>889</th>\n      <td>13849</td>\n      <td>40815</td>\n      <td>2.5</td>\n      <td>2005-12-30 21:50:13</td>\n      <td>Harry Potter and the Goblet of Fire (2005)</td>\n      <td>386</td>\n    </tr>\n  </tbody>\n</table>\n<p>890 rows × 6 columns</p>\n</div>"
     },
     "metadata": {},
     "output_type": "display_data"
    },
    {
     "data": {
      "text/plain": "     cluster  cluster count  cluster average rate\n0          1             64              3.062500\n1          2             60              1.975000\n2         13             33              2.090909\n3          8             32              2.734375\n4         21             24              3.041667\n..       ...            ...                   ...\n223       68              1              3.500000\n224      473              1              3.500000\n225       48              1              4.000000\n226      439              1              3.500000\n227      394              1              4.000000\n\n[228 rows x 3 columns]",
      "text/html": "<div>\n<style scoped>\n    .dataframe tbody tr th:only-of-type {\n        vertical-align: middle;\n    }\n\n    .dataframe tbody tr th {\n        vertical-align: top;\n    }\n\n    .dataframe thead th {\n        text-align: right;\n    }\n</style>\n<table border=\"1\" class=\"dataframe\">\n  <thead>\n    <tr style=\"text-align: right;\">\n      <th></th>\n      <th>cluster</th>\n      <th>cluster count</th>\n      <th>cluster average rate</th>\n    </tr>\n  </thead>\n  <tbody>\n    <tr>\n      <th>0</th>\n      <td>1</td>\n      <td>64</td>\n      <td>3.062500</td>\n    </tr>\n    <tr>\n      <th>1</th>\n      <td>2</td>\n      <td>60</td>\n      <td>1.975000</td>\n    </tr>\n    <tr>\n      <th>2</th>\n      <td>13</td>\n      <td>33</td>\n      <td>2.090909</td>\n    </tr>\n    <tr>\n      <th>3</th>\n      <td>8</td>\n      <td>32</td>\n      <td>2.734375</td>\n    </tr>\n    <tr>\n      <th>4</th>\n      <td>21</td>\n      <td>24</td>\n      <td>3.041667</td>\n    </tr>\n    <tr>\n      <th>...</th>\n      <td>...</td>\n      <td>...</td>\n      <td>...</td>\n    </tr>\n    <tr>\n      <th>223</th>\n      <td>68</td>\n      <td>1</td>\n      <td>3.500000</td>\n    </tr>\n    <tr>\n      <th>224</th>\n      <td>473</td>\n      <td>1</td>\n      <td>3.500000</td>\n    </tr>\n    <tr>\n      <th>225</th>\n      <td>48</td>\n      <td>1</td>\n      <td>4.000000</td>\n    </tr>\n    <tr>\n      <th>226</th>\n      <td>439</td>\n      <td>1</td>\n      <td>3.500000</td>\n    </tr>\n    <tr>\n      <th>227</th>\n      <td>394</td>\n      <td>1</td>\n      <td>4.000000</td>\n    </tr>\n  </tbody>\n</table>\n<p>228 rows × 3 columns</p>\n</div>"
     },
     "metadata": {},
     "output_type": "display_data"
    }
   ],
   "source": [
    "userId = 13849\n",
    "user_data, user_cluster_rate = getUserCluseterRate(data_rating, userId)\n",
    "display(user_data)\n",
    "display(user_cluster_rate)"
   ],
   "metadata": {
    "collapsed": false
   }
  },
  {
   "cell_type": "markdown",
   "id": "b101e061",
   "metadata": {},
   "source": [
    "# can find people watch lot of movie in same cluster"
   ]
  },
  {
   "cell_type": "markdown",
   "id": "99dfb88c",
   "metadata": {},
   "source": [
    "\n"
   ]
  },
  {
   "cell_type": "code",
   "execution_count": 24,
   "outputs": [],
   "source": [
    "def getUserClusterPercent(user_data, user_cluster_rate, userId):\n",
    "    user_total_watch = user_data['movieId'].count()\n",
    "    cluster_1st = int(user_cluster_rate.iloc[0]['cluster'])\n",
    "    cluster_1st_percent = user_cluster_rate.iloc[0]['cluster count']/user_total_watch*100\n",
    "    cluster_2nd = int(user_cluster_rate.iloc[1]['cluster'])\n",
    "    cluster_2nd_percent = user_cluster_rate.iloc[1]['cluster count']/user_total_watch*100\n",
    "    cluster_3rd = int(user_cluster_rate.iloc[2]['cluster'])\n",
    "    cluster_3rd_percent = user_cluster_rate.iloc[2]['cluster count']/user_total_watch*100\n",
    "\n",
    "\n",
    "\n",
    "    new_row = {'userID' : userId, '1st cluster' : cluster_1st,\n",
    "               '1st cluster percent' : cluster_1st_percent,\n",
    "               '2nd cluster' : cluster_2nd, '2nd cluster percent' : cluster_2nd_percent,\n",
    "               '3rd cluster' : cluster_3rd, '3rd cluster percent' : cluster_3rd_percent}\n",
    "    return new_row"
   ],
   "metadata": {
    "collapsed": false
   }
  },
  {
   "cell_type": "code",
   "execution_count": 25,
   "outputs": [
    {
     "data": {
      "text/plain": "{'userID': 13849,\n '1st cluster': 1,\n '1st cluster percent': 7.191011235955057,\n '2nd cluster': 2,\n '2nd cluster percent': 6.741573033707865,\n '3rd cluster': 13,\n '3rd cluster percent': 3.707865168539326}"
     },
     "execution_count": 25,
     "metadata": {},
     "output_type": "execute_result"
    }
   ],
   "source": [
    "getUserClusterPercent(user_data, user_cluster_rate, userId)"
   ],
   "metadata": {
    "collapsed": false
   }
  },
  {
   "cell_type": "code",
   "execution_count": 27,
   "id": "9f4a1356",
   "metadata": {},
   "outputs": [
    {
     "data": {
      "text/plain": "     userID  1st cluster  1st cluster percent  2nd cluster  \\\n0       1.0         47.0             5.142857         60.0   \n1       2.0          9.0             9.836066          1.0   \n2       3.0         55.0             7.486631          1.0   \n3       4.0          2.0            10.714286         19.0   \n4       5.0          1.0             9.090909          8.0   \n..      ...          ...                  ...          ...   \n994   995.0          2.0             5.762712         55.0   \n995   996.0         13.0             9.523810         55.0   \n996   997.0         16.0             6.329114         14.0   \n997   998.0          1.0            14.960630          8.0   \n998   999.0         13.0            12.000000         90.0   \n\n     2nd cluster percent  3rd cluster  3rd cluster percent  \n0               4.571429         55.0             2.857143  \n1               8.196721         55.0             8.196721  \n2               5.347594         75.0             4.812834  \n3               7.142857         90.0             7.142857  \n4               6.060606         55.0             6.060606  \n..                   ...          ...                  ...  \n994             4.406780         90.0             3.728814  \n995             4.761905         19.0             4.761905  \n996             5.063291         19.0             5.063291  \n997            10.236220          2.0             5.511811  \n998            12.000000          2.0            12.000000  \n\n[999 rows x 7 columns]",
      "text/html": "<div>\n<style scoped>\n    .dataframe tbody tr th:only-of-type {\n        vertical-align: middle;\n    }\n\n    .dataframe tbody tr th {\n        vertical-align: top;\n    }\n\n    .dataframe thead th {\n        text-align: right;\n    }\n</style>\n<table border=\"1\" class=\"dataframe\">\n  <thead>\n    <tr style=\"text-align: right;\">\n      <th></th>\n      <th>userID</th>\n      <th>1st cluster</th>\n      <th>1st cluster percent</th>\n      <th>2nd cluster</th>\n      <th>2nd cluster percent</th>\n      <th>3rd cluster</th>\n      <th>3rd cluster percent</th>\n    </tr>\n  </thead>\n  <tbody>\n    <tr>\n      <th>0</th>\n      <td>1.0</td>\n      <td>47.0</td>\n      <td>5.142857</td>\n      <td>60.0</td>\n      <td>4.571429</td>\n      <td>55.0</td>\n      <td>2.857143</td>\n    </tr>\n    <tr>\n      <th>1</th>\n      <td>2.0</td>\n      <td>9.0</td>\n      <td>9.836066</td>\n      <td>1.0</td>\n      <td>8.196721</td>\n      <td>55.0</td>\n      <td>8.196721</td>\n    </tr>\n    <tr>\n      <th>2</th>\n      <td>3.0</td>\n      <td>55.0</td>\n      <td>7.486631</td>\n      <td>1.0</td>\n      <td>5.347594</td>\n      <td>75.0</td>\n      <td>4.812834</td>\n    </tr>\n    <tr>\n      <th>3</th>\n      <td>4.0</td>\n      <td>2.0</td>\n      <td>10.714286</td>\n      <td>19.0</td>\n      <td>7.142857</td>\n      <td>90.0</td>\n      <td>7.142857</td>\n    </tr>\n    <tr>\n      <th>4</th>\n      <td>5.0</td>\n      <td>1.0</td>\n      <td>9.090909</td>\n      <td>8.0</td>\n      <td>6.060606</td>\n      <td>55.0</td>\n      <td>6.060606</td>\n    </tr>\n    <tr>\n      <th>...</th>\n      <td>...</td>\n      <td>...</td>\n      <td>...</td>\n      <td>...</td>\n      <td>...</td>\n      <td>...</td>\n      <td>...</td>\n    </tr>\n    <tr>\n      <th>994</th>\n      <td>995.0</td>\n      <td>2.0</td>\n      <td>5.762712</td>\n      <td>55.0</td>\n      <td>4.406780</td>\n      <td>90.0</td>\n      <td>3.728814</td>\n    </tr>\n    <tr>\n      <th>995</th>\n      <td>996.0</td>\n      <td>13.0</td>\n      <td>9.523810</td>\n      <td>55.0</td>\n      <td>4.761905</td>\n      <td>19.0</td>\n      <td>4.761905</td>\n    </tr>\n    <tr>\n      <th>996</th>\n      <td>997.0</td>\n      <td>16.0</td>\n      <td>6.329114</td>\n      <td>14.0</td>\n      <td>5.063291</td>\n      <td>19.0</td>\n      <td>5.063291</td>\n    </tr>\n    <tr>\n      <th>997</th>\n      <td>998.0</td>\n      <td>1.0</td>\n      <td>14.960630</td>\n      <td>8.0</td>\n      <td>10.236220</td>\n      <td>2.0</td>\n      <td>5.511811</td>\n    </tr>\n    <tr>\n      <th>998</th>\n      <td>999.0</td>\n      <td>13.0</td>\n      <td>12.000000</td>\n      <td>90.0</td>\n      <td>12.000000</td>\n      <td>2.0</td>\n      <td>12.000000</td>\n    </tr>\n  </tbody>\n</table>\n<p>999 rows × 7 columns</p>\n</div>"
     },
     "metadata": {},
     "output_type": "display_data"
    }
   ],
   "source": [
    "import logging\n",
    "\n",
    "logger = logging.getLogger()\n",
    "total_data = pd.DataFrame()\n",
    "max_user = data_rating['userId'].drop_duplicates().tolist()[-1]\n",
    "\n",
    "for userId in range(1,1000):\n",
    "    logger.info(userId, ' / ', max_user)\n",
    "    user_data, user_cluster_rate = getUserCluseterRate(data_rating, userId)\n",
    "    new_row = getUserClusterPercent(user_data, user_cluster_rate, userId)\n",
    "    total_data = total_data.append(new_row, ignore_index=True)\n",
    "display(total_data)"
   ]
  },
  {
   "cell_type": "code",
   "execution_count": 27,
   "outputs": [],
   "source": [],
   "metadata": {
    "collapsed": false
   }
  },
  {
   "cell_type": "code",
   "execution_count": null,
   "outputs": [],
   "source": [],
   "metadata": {
    "collapsed": false
   }
  },
  {
   "cell_type": "code",
   "execution_count": null,
   "outputs": [],
   "source": [],
   "metadata": {
    "collapsed": false
   }
  },
  {
   "cell_type": "code",
   "execution_count": null,
   "id": "3b7090c4",
   "metadata": {},
   "outputs": [],
   "source": [
    "\n"
   ]
  },
  {
   "cell_type": "code",
   "execution_count": null,
   "outputs": [],
   "source": [],
   "metadata": {
    "collapsed": false
   }
  },
  {
   "cell_type": "code",
   "execution_count": null,
   "outputs": [],
   "source": [],
   "metadata": {
    "collapsed": false
   }
  },
  {
   "cell_type": "code",
   "execution_count": null,
   "outputs": [],
   "source": [],
   "metadata": {
    "collapsed": false
   }
  },
  {
   "cell_type": "code",
   "execution_count": null,
   "outputs": [],
   "source": [],
   "metadata": {
    "collapsed": false
   }
  }
 ],
 "metadata": {
  "kernelspec": {
   "display_name": "Python 3.10.4 64-bit",
   "language": "python",
   "name": "python3"
  },
  "language_info": {
   "codemirror_mode": {
    "name": "ipython",
    "version": 3
   },
   "file_extension": ".py",
   "mimetype": "text/x-python",
   "name": "python",
   "nbconvert_exporter": "python",
   "pygments_lexer": "ipython3",
   "version": "3.10.4"
  },
  "vscode": {
   "interpreter": {
    "hash": "519e205008b07060dc897bc51f194856d2cbaec014de342eed938c444dceb520"
   }
  }
 },
 "nbformat": 4,
 "nbformat_minor": 5
}
